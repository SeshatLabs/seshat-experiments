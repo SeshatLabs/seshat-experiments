{
 "cells": [
  {
   "cell_type": "markdown",
   "metadata": {},
   "source": [
    "## Dataset\n",
    "\n",
    "We have:\n",
    "- 7M contract addresses\n",
    "- 2M user-contract interactions (i.e., transactions)\n",
    "- 50K parsed contracts (codes and comments separated)\n",
    "- 0.5M user-contractName interactions\n",
    "- 0.5M user-contractTagFromLDA interactions\n",
    "- Transaction graph of 2M user-contract interactions (i.e., transactions)\n",
    "\n",
    "### Exploratory Analysis\n",
    "\n",
    "![image-3.png](attachment:image-3.png)\n",
    "\n",
    "![image.png](attachment:image.png)\n",
    "\n",
    "![image-2.png](attachment:image-2.png)\n"
   ]
  }
 ],
 "metadata": {
  "language_info": {
   "name": "python"
  },
  "orig_nbformat": 4
 },
 "nbformat": 4,
 "nbformat_minor": 2
}
